{
 "cells": [
  {
   "cell_type": "code",
   "execution_count": 11,
   "metadata": {},
   "outputs": [
    {
     "data": {
      "application/vnd.jupyter.widget-view+json": {
       "model_id": "e5797462490b454a91ac669993cf038a",
       "version_major": 2,
       "version_minor": 0
      },
      "text/plain": [
       "interactive(children=(IntSlider(value=5, description='p', max=10, min=1), Output()), _dom_classes=('widget-int…"
      ]
     },
     "metadata": {},
     "output_type": "display_data"
    }
   ],
   "source": [
    "%matplotlib widget\n",
    "import numpy as np\n",
    "import matplotlib.pyplot as plt\n",
    "from ipywidgets import interact\n",
    "import copy\n",
    "from matplotlib.animation import FuncAnimation\n",
    "import random\n",
    "\n",
    "class Lattice:\n",
    "    def __init__(self, limits: tuple):\n",
    "        self.xlim: tuple = limits[0]\n",
    "        self.ylim: tuple = limits[1]\n",
    "        self.X, self.Y = np.meshgrid(np.linspace(self.xlim[0],self.xlim[1],100), np.linspace(self.ylim[0],self.ylim[1], 100))\n",
    "        \n",
    "    def generate_atoms(self, static: bool):\n",
    "        if static:\n",
    "            mosaic_layout = '''\n",
    "            ABC\n",
    "            '''\n",
    "            layout_settings = ['A', 'B', 'C']\n",
    "            density_settings = ['Low', 'Medium', 'High']\n",
    "            self.fig, self.ax = plt.subplot_mosaic(mosaic_layout, layout='constrained')\n",
    "            def density_setter(p,i):\n",
    "                self.density = p\n",
    "                list_of_centres = []\n",
    "                for x in np.linspace(self.xlim[0],self.xlim[1], 2*self.density):\n",
    "                    for y in np.linspace(self.ylim[0],self.ylim[1], 2*self.density):\n",
    "                        list_of_centres.append((x,y))\n",
    "                list_of_centres = list(set(list_of_centres))\n",
    "                self.atom_list = [Atom(centre, 2,self.X, self.Y) for centre in list_of_centres]\n",
    "                self.ax[layout_settings[i]].set_title(f'{density_settings[i]} Density')\n",
    "                self.ax[layout_settings[i]].axis([self.xlim[0], self.xlim[1], self.ylim[0], self.ylim[1]])\n",
    "                self.ax[layout_settings[i]].set_aspect('equal')\n",
    "                self.ax[layout_settings[i]].set_xticks([])\n",
    "                self.ax[layout_settings[i]].set_yticks([])\n",
    "                for atom in self.atom_list:\n",
    "                    atom.plot_wave_function(self.ax[layout_settings[i]])\n",
    "                plt.show()\n",
    "            values = [2,5,8]\n",
    "            for i,v in enumerate(values):\n",
    "                density_setter(v, i)\n",
    "            \n",
    "        else:\n",
    "            @interact(p=(1,10))\n",
    "            def density_setter(p):\n",
    "                self.density = p\n",
    "                list_of_centres = []\n",
    "                for x in np.linspace(self.xlim[0],self.xlim[1], 2*self.density):\n",
    "                    for y in np.linspace(self.ylim[0],self.ylim[1], 2*self.density):\n",
    "                        list_of_centres.append((x,y))\n",
    "                list_of_centres = list(set(list_of_centres))\n",
    "                self.atom_list = [Atom(centre, 2,self.X, self.Y) for centre in list_of_centres]\n",
    "                self.fig, self.ax = plt.subplots()\n",
    "                self.fig.suptitle('Wave functions of atoms in a lattice')\n",
    "                self.ax.axis([self.xlim[0], self.xlim[1], self.ylim[0], self.ylim[1]])\n",
    "                self.ax.set_aspect('equal')\n",
    "                for atom in self.atom_list:\n",
    "                    atom.plot_wave_function(self.ax)\n",
    "                plt.show()\n",
    "class Atom:\n",
    "    def __init__(self, centre, radius,X,Y):\n",
    "        self.X, self.Y = X, Y\n",
    "        self.centre = centre\n",
    "        self.original_centre = copy.deepcopy(centre)\n",
    "        self.radius = radius\n",
    "        self.oscillation_range = (list(np.linspace(self.centre[0]-0.5, self.centre[0]+0.5, 10)), list(np.linspace(self.centre[1]-0.5, self.centre[1]+0.5, 10)))\n",
    "        \n",
    "    def plot_wave_function(self,ax):\n",
    "        self.ax = ax\n",
    "        self.orbit = ax.contour(self.X,self.Y, (lambda x,y: (x-self.centre[0])**2 + (y-self.centre[1])**2 - self.radius**2)(self.X,self.Y), [0])\n",
    "        #ax.title.set_text('Wave functions of atoms in a lattice')\n",
    "\n",
    "        \n",
    "    def update(self):\n",
    "        self.centre = (self.original_centre[0] + random.choice(self.oscillation_range[0]), self.original_centre[1] + random.choice(self.oscillation_range[1]))\n",
    "        self.plot_wave_function(self.ax)\n",
    "        return self.orbit\n",
    "       \n",
    "L = Lattice(((-20,20),(-20,20)))\n",
    "L.generate_atoms(False) "
   ]
  }
 ],
 "metadata": {
  "kernelspec": {
   "display_name": "Python 3",
   "language": "python",
   "name": "python3"
  },
  "language_info": {
   "codemirror_mode": {
    "name": "ipython",
    "version": 3
   },
   "file_extension": ".py",
   "mimetype": "text/x-python",
   "name": "python",
   "nbconvert_exporter": "python",
   "pygments_lexer": "ipython3",
   "version": "3.11.6"
  }
 },
 "nbformat": 4,
 "nbformat_minor": 2
}
